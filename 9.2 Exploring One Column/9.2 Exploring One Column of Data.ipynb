{
 "cells": [
  {
   "cell_type": "markdown",
   "metadata": {},
   "source": [
    "# 9.2 - Exploring One Column of Data\n",
    "\n",
    "## Welcome to Jupyter Notebooks\n",
    "Welcome to Jupyter Notebooks! This is an interactive platform where you can write and execute code, visualize data, and discover new concepts. In this notebook, we will explore data and create visual representations of it. If you are not familiar with Jupyter Notebooks, don't worry; we will guide you through the process.\n",
    "\n",
    "First, let's discuss how Jupyter Notebooks operate. A notebook consists of cells. Each cell can hold either code or text. To run a cell that contains code, you can either click the play button for that cell or press Shift + Enter when the cell is active (it will be highlighted with a border when you select it).\n",
    "\n",
    "## Prerequisites\n",
    "\n",
    "### Installing the libraries\n",
    "\n",
    "Before we dive into coding, it’s important to ensure that all necessary libraries are installed. You can execute the following cell by clicking the play button or by selecting it and pressing `Shift + Enter`."
   ]
  },
  {
   "cell_type": "code",
   "execution_count": null,
   "metadata": {},
   "outputs": [],
   "source": [
    "# install the necessary libraries for this notebook\n",
    "%pip install pandas\n",
    "%pip install matplotlib\n",
    "%pip install numpy"
   ]
  },
  {
   "cell_type": "markdown",
   "metadata": {},
   "source": [
    "### Loading the Libraries\n",
    "\n",
    "Once the libraries are installed, we need to load them into Python. You can do this by running the following cell, which includes the `import` statements for loading the libraries. You'll need to do this at the beginning of every new notebook."
   ]
  },
  {
   "cell_type": "code",
   "execution_count": 4,
   "metadata": {},
   "outputs": [],
   "source": [
    "import pandas"
   ]
  },
  {
   "cell_type": "markdown",
   "metadata": {},
   "source": [
    "## Looking at the Data\n",
    "\n",
    "Now, we can begin our work. The remaining code cells in this notebook will load the data, allow us to explore it, and visualize it. You can run each cell in sequence to observe the output. If you want to modify something, edit the cell and run it again to see the updated output.\n",
    "\n",
    "To work with data, we need to have data available. We will be using a CSV file that contains information about dog breeds. Take a moment to look at that file. On the left side of the screen, you will see the file Explorer icon, ![Explorer icon](ExplorerIcon.png) which shows the files in the current directory. Double-click on the file `dogs.csv` to open it in a new tab and view its contents. This file consists of rows of data, where each row represents a dog breed, and each column (separated by a comma) represents a different attribute of that breed. The first row lists the column names. CSV files can be challenging to read because the information is compacted. We can use Python to make it more manageable. Close the tab with the CSV file, and let’s get going.\n",
    "\n",
    "### Loading the Data\n",
    "\n",
    "To start working with the data, we need to load it. We will use the pandas library to load and manipulate our data. The data is stored in a CSV file, which is a standard format for data storage. We can load the data with the `read_csv` function from pandas. Let’s load the data and examine the first few rows."
   ]
  },
  {
   "cell_type": "code",
   "execution_count": 5,
   "metadata": {},
   "outputs": [
    {
     "data": {
      "text/html": [
       "<div>\n",
       "<style scoped>\n",
       "    .dataframe tbody tr th:only-of-type {\n",
       "        vertical-align: middle;\n",
       "    }\n",
       "\n",
       "    .dataframe tbody tr th {\n",
       "        vertical-align: top;\n",
       "    }\n",
       "\n",
       "    .dataframe thead th {\n",
       "        text-align: right;\n",
       "    }\n",
       "</style>\n",
       "<table border=\"1\" class=\"dataframe\">\n",
       "  <thead>\n",
       "    <tr style=\"text-align: right;\">\n",
       "      <th></th>\n",
       "      <th>id</th>\n",
       "      <th>Name</th>\n",
       "      <th>Breed Group</th>\n",
       "      <th>Bred For</th>\n",
       "      <th>Minimum Life Span</th>\n",
       "      <th>Maximum Life Span</th>\n",
       "      <th>Minimum Height</th>\n",
       "      <th>Maximum Height</th>\n",
       "      <th>Minimum Weight</th>\n",
       "      <th>Maximum Weight</th>\n",
       "      <th>Temperament</th>\n",
       "      <th>Image</th>\n",
       "    </tr>\n",
       "  </thead>\n",
       "  <tbody>\n",
       "    <tr>\n",
       "      <th>0</th>\n",
       "      <td>1</td>\n",
       "      <td>Affenpinscher</td>\n",
       "      <td>Toy</td>\n",
       "      <td>Small rodent hunting, lapdog</td>\n",
       "      <td>10.0</td>\n",
       "      <td>12.0</td>\n",
       "      <td>9.0</td>\n",
       "      <td>12.0</td>\n",
       "      <td>6.0</td>\n",
       "      <td>13.0</td>\n",
       "      <td>Stubborn, Curious, Playful, Adventurous, Activ...</td>\n",
       "      <td>https://cdn2.thedogapi.com/images/0LJiOVlxp.jpg</td>\n",
       "    </tr>\n",
       "    <tr>\n",
       "      <th>1</th>\n",
       "      <td>2</td>\n",
       "      <td>Afghan Hound</td>\n",
       "      <td>Hound</td>\n",
       "      <td>Coursing and hunting</td>\n",
       "      <td>10.0</td>\n",
       "      <td>13.0</td>\n",
       "      <td>25.0</td>\n",
       "      <td>27.0</td>\n",
       "      <td>50.0</td>\n",
       "      <td>60.0</td>\n",
       "      <td>Aloof, Clownish, Dignified, Independent, Happy</td>\n",
       "      <td>https://cdn2.thedogapi.com/images/tChrH8dDJ.jpg</td>\n",
       "    </tr>\n",
       "    <tr>\n",
       "      <th>2</th>\n",
       "      <td>3</td>\n",
       "      <td>Airedale Terrier</td>\n",
       "      <td>Terrier</td>\n",
       "      <td>Badger, otter hunting</td>\n",
       "      <td>10.0</td>\n",
       "      <td>13.0</td>\n",
       "      <td>21.0</td>\n",
       "      <td>23.0</td>\n",
       "      <td>40.0</td>\n",
       "      <td>65.0</td>\n",
       "      <td>Outgoing, Friendly, Alert, Confident, Intellig...</td>\n",
       "      <td>https://cdn2.thedogapi.com/images/PG8UPLSVU.jpg</td>\n",
       "    </tr>\n",
       "    <tr>\n",
       "      <th>3</th>\n",
       "      <td>4</td>\n",
       "      <td>Akbash Dog</td>\n",
       "      <td>Working</td>\n",
       "      <td>Sheep guarding</td>\n",
       "      <td>10.0</td>\n",
       "      <td>12.0</td>\n",
       "      <td>28.0</td>\n",
       "      <td>34.0</td>\n",
       "      <td>90.0</td>\n",
       "      <td>120.0</td>\n",
       "      <td>Loyal, Independent, Intelligent, Brave</td>\n",
       "      <td>https://cdn2.thedogapi.com/images/SyfsC19NQ_12...</td>\n",
       "    </tr>\n",
       "    <tr>\n",
       "      <th>4</th>\n",
       "      <td>5</td>\n",
       "      <td>Akita</td>\n",
       "      <td>Working</td>\n",
       "      <td>Hunting bears</td>\n",
       "      <td>10.0</td>\n",
       "      <td>14.0</td>\n",
       "      <td>24.0</td>\n",
       "      <td>28.0</td>\n",
       "      <td>65.0</td>\n",
       "      <td>115.0</td>\n",
       "      <td>Docile, Alert, Responsive, Dignified, Composed...</td>\n",
       "      <td>https://cdn2.thedogapi.com/images/36TXlWMDf.jpg</td>\n",
       "    </tr>\n",
       "  </tbody>\n",
       "</table>\n",
       "</div>"
      ],
      "text/plain": [
       "   id              Name Breed Group                      Bred For  \\\n",
       "0   1     Affenpinscher         Toy  Small rodent hunting, lapdog   \n",
       "1   2      Afghan Hound       Hound          Coursing and hunting   \n",
       "2   3  Airedale Terrier     Terrier         Badger, otter hunting   \n",
       "3   4        Akbash Dog     Working                Sheep guarding   \n",
       "4   5             Akita     Working                 Hunting bears   \n",
       "\n",
       "   Minimum Life Span  Maximum Life Span  Minimum Height  Maximum Height  \\\n",
       "0               10.0               12.0             9.0            12.0   \n",
       "1               10.0               13.0            25.0            27.0   \n",
       "2               10.0               13.0            21.0            23.0   \n",
       "3               10.0               12.0            28.0            34.0   \n",
       "4               10.0               14.0            24.0            28.0   \n",
       "\n",
       "   Minimum Weight  Maximum Weight  \\\n",
       "0             6.0            13.0   \n",
       "1            50.0            60.0   \n",
       "2            40.0            65.0   \n",
       "3            90.0           120.0   \n",
       "4            65.0           115.0   \n",
       "\n",
       "                                         Temperament  \\\n",
       "0  Stubborn, Curious, Playful, Adventurous, Activ...   \n",
       "1     Aloof, Clownish, Dignified, Independent, Happy   \n",
       "2  Outgoing, Friendly, Alert, Confident, Intellig...   \n",
       "3             Loyal, Independent, Intelligent, Brave   \n",
       "4  Docile, Alert, Responsive, Dignified, Composed...   \n",
       "\n",
       "                                               Image  \n",
       "0    https://cdn2.thedogapi.com/images/0LJiOVlxp.jpg  \n",
       "1    https://cdn2.thedogapi.com/images/tChrH8dDJ.jpg  \n",
       "2    https://cdn2.thedogapi.com/images/PG8UPLSVU.jpg  \n",
       "3  https://cdn2.thedogapi.com/images/SyfsC19NQ_12...  \n",
       "4    https://cdn2.thedogapi.com/images/36TXlWMDf.jpg  "
      ]
     },
     "execution_count": 5,
     "metadata": {},
     "output_type": "execute_result"
    }
   ],
   "source": [
    "# Load data about dogs from the CSV file\n",
    "dogInfo = pandas.read_csv('dogs.csv')\n",
    "\n",
    "# Display the first few rows of the data\n",
    "dogInfo.head()"
   ]
  },
  {
   "cell_type": "markdown",
   "metadata": {},
   "source": [
    "You can change the number of rows displayed by altering the parameter sent to the `head` function. Go back to the last cell and try changing it to 10 or 20 to view more rows. Remember to run the cell again to see the updated output.\n",
    "\n",
    "### Data Description\n",
    "\n",
    "As you look at the displayed data, you will notice several columns. To see the names of the columns, you can use the `keys` function on the data. Try running the next cell to see the column names."
   ]
  },
  {
   "cell_type": "code",
   "execution_count": 6,
   "metadata": {},
   "outputs": [
    {
     "data": {
      "text/plain": [
       "Index(['id', 'Name', 'Breed Group', 'Bred For', 'Minimum Life Span',\n",
       "       'Maximum Life Span', 'Minimum Height', 'Maximum Height',\n",
       "       'Minimum Weight', 'Maximum Weight', 'Temperament', 'Image'],\n",
       "      dtype='object')"
      ]
     },
     "execution_count": 6,
     "metadata": {},
     "output_type": "execute_result"
    }
   ],
   "source": [
    "dogInfo.keys()"
   ]
  },
  {
   "cell_type": "markdown",
   "metadata": {},
   "source": [
    "If you wish to examine the data from a specific column, access it using the column name. For instance, to view the data from the `Breed Group` column, you can use `dogInfo['Breed Group']`. **Notice that this uses square brackets `[]` like the index of a list!** "
   ]
  },
  {
   "cell_type": "code",
   "execution_count": 7,
   "metadata": {},
   "outputs": [
    {
     "data": {
      "text/plain": [
       "0           Toy\n",
       "1         Hound\n",
       "2       Terrier\n",
       "3       Working\n",
       "4       Working\n",
       "         ...   \n",
       "100    Sporting\n",
       "101     Terrier\n",
       "102       Hound\n",
       "103    Sporting\n",
       "104         Toy\n",
       "Name: Breed Group, Length: 105, dtype: object"
      ]
     },
     "execution_count": 7,
     "metadata": {},
     "output_type": "execute_result"
    }
   ],
   "source": [
    "dogInfo['Breed Group']"
   ]
  },
  {
   "cell_type": "markdown",
   "metadata": {},
   "source": [
    "The data displayed is abbreviated. The dataset contains over 100 rows, so printing them all may not be very informative. To view just the first 5 rows, use the `head` function. To see the last 5 rows, use the `tail` function. You can specify the number of rows you want to see as a parameter in both cases.\n",
    "\n",
    "Try changing the cell above to use `tail` to see the last 10 rows of the data.\n",
    "\n",
    "### Unique Values\n",
    "\n",
    "Another way to examine a column is to see all the unique values it contains. This is particularly useful for categorical data, where we want to identify all possible categories. We can use the `unique` function to obtain all unique values in a column. Let’s find out the unique values in the `Breed Group` column."
   ]
  },
  {
   "cell_type": "code",
   "execution_count": 12,
   "metadata": {},
   "outputs": [
    {
     "data": {
      "text/plain": [
       "array(['Toy', 'Hound', 'Terrier', 'Working', 'Mixed', 'Non-Sporting',\n",
       "       'Sporting', 'Herding'], dtype=object)"
      ]
     },
     "execution_count": 12,
     "metadata": {},
     "output_type": "execute_result"
    }
   ],
   "source": [
    "dogInfo['Breed Group'].unique()"
   ]
  },
  {
   "cell_type": "markdown",
   "metadata": {},
   "source": [
    "#### Counting Unique Values\n",
    "\n",
    "This will display the various breed groups within the dataset. If you wish to know how many unique values there are, you can use the `nunique` function. Modify the cell above to use `nunique` and check how many unique values exist in the `Breed Group` column.\n",
    "\n",
    "To discover how many times each value appears in the column, you can utilize the `value_counts` function. This will provide a count of how many times each value appears in that column. Run the cell below to see the unique breed groups again, then add another call to `value_counts` instead of `unique` and run it again to find out how many breeds belong to each breed group in the dataset."
   ]
  },
  {
   "cell_type": "code",
   "execution_count": 13,
   "metadata": {},
   "outputs": [
    {
     "data": {
      "text/plain": [
       "array(['Toy', 'Hound', 'Terrier', 'Working', 'Mixed', 'Non-Sporting',\n",
       "       'Sporting', 'Herding'], dtype=object)"
      ]
     },
     "execution_count": 13,
     "metadata": {},
     "output_type": "execute_result"
    }
   ],
   "source": [
    "dogInfo['Breed Group'].unique()"
   ]
  },
  {
   "cell_type": "markdown",
   "metadata": {},
   "source": [
    "## Visualizing Data\n",
    "\n",
    "Now that we have explored the data, let’s move on to visualization. We will use the pandas library to create some visualizations. We can use the `plot` function to create a simple bar chart. Let's plot the number of breeds in each breed group.\n",
    "\n",
    "To create a plot, we need to provide the data we want to plot and the type of plot we want to create. We can use the `kind` parameter to specify the type of plot. For example, if we want to create a line chart, we can use `kind='line'`. If we want to create a bar chart, we can use `kind='bar'`. Don’t forget to title the plot using the `title` parameter."
   ]
  },
  {
   "cell_type": "code",
   "execution_count": null,
   "metadata": {},
   "outputs": [],
   "source": [
    "dogInfo['Breed Group'].value_counts().plot(kind='bar', title='Dog Breeds by Group');"
   ]
  },
  {
   "cell_type": "markdown",
   "metadata": {},
   "source": [
    "As you can see, bar charts are excellent for visualizing categorical data. They can illustrate the frequency of each category in the dataset.\n",
    "\n",
    "With a bar chart you can also quickly see:\n",
    "- all of the categories in the data (in this case, the breed groups)\n",
    "- which category (breed group) occurs most frequently\n",
    "- which categories occur least frequently\n",
    "\n",
    "### Your turn\n",
    "\n",
    "Use the code cell below to create a bar chart for each of the columns in the dataset. As you generate each chart, consider what insights it provides. Do you think this is an effective way to visualize the data? Why or why not? Fill in the first page of your activity guide as you progress. When instructed to paste a chart, you can use the `Copy` button in the toolbar above the chart and then paste it into your activity guide.\n",
    "\n",
    "After reviewing the charts for all columns, select one to analyze further on page 2 of your activity guide."
   ]
  },
  {
   "cell_type": "code",
   "execution_count": null,
   "metadata": {},
   "outputs": [],
   "source": []
  },
  {
   "cell_type": "markdown",
   "metadata": {},
   "source": [
    "## Histograms\n",
    "\n",
    "Run the cell below to see a bar chart for the `Maximum Height` column. his column indicates the maximum height each breed can reach, measured in inches. Notice how the x-axis and y-axis are labeled for clarity. The x-axis represents each possible height, while the y-axis shows the number of breeds that may reach that height."
   ]
  },
  {
   "cell_type": "code",
   "execution_count": null,
   "metadata": {},
   "outputs": [],
   "source": [
    "dogInfo['Maximum Height'].value_counts().plot(kind='bar', \n",
    "                                              title='Distribution of Dog Breeds by Height',\n",
    "                                              ylabel='Number of Breeds',\n",
    "                                              xlabel='Maximum Height (inches)');"
   ]
  },
  {
   "cell_type": "markdown",
   "metadata": {},
   "source": [
    "This chart has a few problems. The bars are sorted largest to smallest rather than by the `Maximum Height` and the chart is a bit cluttered because there are so many different heights. We can solve the first problem by sorting the data before plotting it. \n",
    "\n",
    "In the cell below, add a call to the `sort_index` function to the data before generating the plot. This will sort the counts by the index (in this case, the index is the height). You should end up with something like `...value_counts().sort_index().plot(...`. Run the cell and compare the chart with the previous one. What differences do you observe?"
   ]
  },
  {
   "cell_type": "code",
   "execution_count": null,
   "metadata": {},
   "outputs": [],
   "source": [
    "dogInfo['Maximum Height'].value_counts().plot(kind='bar',\n",
    "                                              title='Distribution of Dog Breeds by Height', \n",
    "                                              ylabel='Number of Breeds',\n",
    "                                              xlabel='Maximum Height (inches)');"
   ]
  },
  {
   "cell_type": "markdown",
   "metadata": {},
   "source": [
    "The sorted axis appears much clearer, with data arranged logically, but the chart still feels crowded. We can alleviate this by using a histogram instead of a bar chart. A histogram groups data into bins, showing the number of occurrences within each bin. This can reveal patterns in the data more effectively.\n",
    "\n",
    "Instead of employing `value_counts`, we will use the `hist` function to create a histogram. The `hist` function requires a `bins` parameter that specifies the number of bins to use. Run the cell below to see a histogram of the `Maximum Height` column with 5 bins.\n",
    "\n",
    "**NOTE:** The `hist` function operates differently from the `plot` function. You cannot directly set the title or label the axes in the function call. Instead, save the plot as a variable, then apply the `set_title`, `set_xlabel`, and `set_ylabel` functions on the plot to customize the title and labels."
   ]
  },
  {
   "cell_type": "code",
   "execution_count": null,
   "metadata": {},
   "outputs": [],
   "source": [
    "plt = dogInfo['Maximum Height'].hist(bins=5)\n",
    "plt.set_title('Distribution of Dog Breeds by Height')\n",
    "plt.set_xlabel('Maximum Height (inches)')\n",
    "plt.set_ylabel('Number of Breeds');\n"
   ]
  },
  {
   "cell_type": "markdown",
   "metadata": {},
   "source": [
    "Notice how the bars are now wider and grouped together. This format makes it easier to observe trends in the data. The x-axis now indicates ranges of heights instead of individual heights. While this enhances trend visibility, the numbers on the x-axis may not align with the bars. We can rectify this by instructing pandas where to place the x-axis 'ticks' or by adjusting the `bins` parameter to define the bin ranges. We will use the latter option for added flexibility.\n",
    "\n",
    "In the cell below, modify the `bins` parameter to specify a list of ranges for each bar. For instance, if you want bins of size 10, you can use `bins=[0, 10, 20, 30, 40]`. Run the cell and compare this chart with the previous one. What changes do you notice?"
   ]
  },
  {
   "cell_type": "code",
   "execution_count": null,
   "metadata": {},
   "outputs": [],
   "source": [
    "plt = dogInfo['Maximum Height'].hist(bins=5)\n",
    "plt.set_title('Distribution of Dog Breeds by Height')\n",
    "plt.set_xlabel('Maximum Height (inches)')\n",
    "plt.set_ylabel('Number of Breeds');"
   ]
  },
  {
   "cell_type": "markdown",
   "metadata": {},
   "source": [
    "Keep in mind that you specified 5 numbers `[0, 10, 20, 30, 40]` yet only 4 bars appear. This discrepancy occurs because the numbers represent the edges of the bins. The first number is the lower bound of the first bin, while the last number is the upper bound of the final bin. Each bin encompasses the space between two numbers. You can use this to create bins of varying sizes. For example, to use bins of size 10, 15, and 20, you can adjust the parameter to `bins=[0, 10, 25, 45]`. . Experiment with these adjustments and observe the results (note that there will be 3 bars since the bin edges are separated by 3 commas).\n",
    "\n",
    "Finally, let’s explore how to allow pandas to determine the bin sizes automatically. By specifying a certain number of bins, pandas will calculate the corresponding bin sizes. We then need to determine the edges of the bins. To achieve this, we must utilize pandas' `cut` function, asking it to \"return the bins\". This function will then return the edges of the bins that pandas will use. Run the cell below to observe the bin edges that pandas will utilize."
   ]
  },
  {
   "cell_type": "code",
   "execution_count": null,
   "metadata": {},
   "outputs": [],
   "source": [
    "# Precalculate the edges of the bins. cut returns both the ranges for the bins\n",
    "# and the bin edges. The ranges aren't helpful here, so we use the underscore to\n",
    "# ignore them\n",
    "_, edges = pandas.cut(dogInfo['Maximum Height'], bins=5, retbins=True)\n",
    "\n",
    "plt = dogInfo['Maximum Height'].hist(bins=5)\n",
    "plt.set_title('Distribution of Dog Breeds by Height')\n",
    "plt.set_xlabel('Maximum Height (inches)')\n",
    "plt.set_ylabel('Number of Breeds')\n",
    "plt.set_xticks(edges); # set the x-ticks to the bin edges we calculated"
   ]
  },
  {
   "cell_type": "markdown",
   "metadata": {},
   "source": [
    "### Your turn\n",
    "\n",
    "Use the code cell below to create a histogram for the `Maximum Weight` column. Experiment with various bin counts and sizes to see how they affect the chart. What observations can you make? Would you find this an effective way to visualize the data? Why or why not? Complete the third page of your activity guide when you identify an appropriate bin size."
   ]
  },
  {
   "cell_type": "code",
   "execution_count": null,
   "metadata": {},
   "outputs": [],
   "source": []
  },
  {
   "cell_type": "markdown",
   "metadata": {},
   "source": [
    "Use the code cell below to create a histogram for another column in the dataset. Try out different bin counts and sizes to analyze their impact on the chart. Fill in the fourth page of your activity guide once you determine a suitable bin size."
   ]
  },
  {
   "cell_type": "code",
   "execution_count": null,
   "metadata": {},
   "outputs": [],
   "source": [
    "dogInfo.keys() # get the column names"
   ]
  }
 ],
 "metadata": {
  "kernelspec": {
   "display_name": "Python 3",
   "language": "python",
   "name": "python3"
  },
  "language_info": {
   "codemirror_mode": {
    "name": "ipython",
    "version": 3
   },
   "file_extension": ".py",
   "mimetype": "text/x-python",
   "name": "python",
   "nbconvert_exporter": "python",
   "pygments_lexer": "ipython3",
   "version": "3.11.4"
  }
 },
 "nbformat": 4,
 "nbformat_minor": 2
}
