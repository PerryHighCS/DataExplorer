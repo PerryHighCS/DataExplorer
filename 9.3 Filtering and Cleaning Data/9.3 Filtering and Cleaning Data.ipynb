{
 "cells": [
  {
   "cell_type": "markdown",
   "metadata": {},
   "source": [
    "# 9.3 - Filtering and Cleaning Data\n",
    "\n",
    "### Preparing\n",
    "\n",
    "Run the cell below to load the imported libraries we'll be using."
   ]
  },
  {
   "cell_type": "code",
   "execution_count": 1,
   "metadata": {},
   "outputs": [],
   "source": [
    "import pandas"
   ]
  },
  {
   "cell_type": "markdown",
   "metadata": {},
   "source": [
    "# Filtering and Cleaning Data\n",
    "\n",
    "Welcome back to the second Jupyter notebook of the series. In this notebook, we will filter and clean data to make it easier to work with. We will continue using the pandas library to assist us, but first, we need to examine the data itself.\n",
    "\n",
    "Open the `Cereal Nutrition.csv` file. With the CSV extension installed, you should see a table of data. This table is much easier to read than the raw CSV file. CSV files are designed for computers not for human readability, so this extension is very beneficial.\n",
    "\n",
    "## Downloading data\n",
    "\n",
    "Another way to view the data is to open the file in Excel or Google Sheets. We will explore this option with the data your class created with the `Daily Data Tracker` form. Follow the steps below:\n",
    "1. [Click here to open the data on Google Sheets](https://learn.mycode.run/link/xxcpx) and take a look through the data.\n",
    "2. From the `File` menu, choose `Download` then `Comma Separated Values (.csv)` to download the data.\n",
    "3. Open the Explorer tab ![Explorer Icon](ExplorerIcon.png) on the right side of the screen and drag the CSV file into the same folder as this Jupyer notebook (`9.3 Filtering and Cleaning Data`).\n",
    "4. Double click the file and verify the data looks similar to the data you saw on Google Sheets.\n",
    "\n",
    "This is the data file we will start with. Let's review making a chart by looking at some of its columns. In the data cell below, update the name of the .csv file being loaded to match the file you just downloaded, then run the cell and verify the output looks like the first few lines from Google Sheets."
   ]
  },
  {
   "cell_type": "code",
   "execution_count": null,
   "metadata": {},
   "outputs": [],
   "source": [
    "classInfo = pandas.read_csv('CSP Data Tracker.csv') # Fix this line so the file name is correct!!\n",
    "classInfo.head()"
   ]
  },
  {
   "cell_type": "markdown",
   "metadata": {},
   "source": [
    "If everything looks correct, you can start visualizing the data. Create a bar chart of either the `How many hours did you sleep last night?` or `Favorite Subject` column. Remember that you are looking at how many times a particular value appears in the column, so make sure to use the `value_counts` function. The `kind` of `plot` should be a `bar` chart. Don't forget to label your chart with a title and labels for the x and y axes."
   ]
  },
  {
   "cell_type": "code",
   "execution_count": null,
   "metadata": {},
   "outputs": [],
   "source": [
    "classInfo['']"
   ]
  },
  {
   "cell_type": "markdown",
   "metadata": {},
   "source": [
    "## Copying and cleaning\n",
    "\n",
    "Copy the chart you created to your activity guide. Does it look right? Are there any issues?\n",
    "\n",
    "You probably see that some of the data is a little 'wonky'. To get a good visualization of the data it needs to be cleaned up. Before making any changes, there's a crucial step to take. As a data scientist, you want to avoid losing any data; you don’t want to accidentally delete or corrupt it. Instead of modifying the original data, you should always modify a **COPY** of that data. This way, you can always return to the original and verify that the changes do not alter the meaning of the data. Let's make that copy.\n",
    "\n",
    "1. In the Explorer tab find the original `CSP Data Tracker.csv` file.\n",
    "2. Right click the file and select `Copy`.\n",
    "3. Press `Ctrl`+`V` to paste the file, creating a copy.\n",
    "4. Right click the copy and select `Rename`.\n",
    "5. Name the copy `CSP Data Cleaned.csv` (make sure to name it exactly).\n",
    "\n",
    "Open the csv file and follow your instructor's directions to clean it. You'll need to clean up at least the `How many hours did you sleep last night` and `Favorite Subject`, but don't clean the `Grade` column just yet. \n",
    "\n",
    "Update the cell below to create a bar chart of the same column as the chart you made above then run the cell to load the cleaned data and create the chart."
   ]
  },
  {
   "cell_type": "code",
   "execution_count": 104,
   "metadata": {},
   "outputs": [],
   "source": [
    "classInfo = pandas.read_csv('CSP Data Tracker.csv')"
   ]
  },
  {
   "cell_type": "markdown",
   "metadata": {},
   "source": [
    "Copy the chart of either the `How many hours did you sleep last night?` or `Favorite Subject` column using your cleaned data to your activity guide. Did cleaning the data improve it? How?"
   ]
  },
  {
   "cell_type": "markdown",
   "metadata": {},
   "source": [
    "# Filtering data\n",
    "\n",
    "Sometimes you only want to see a subset of the data. For example, you might be investigating cereal nutrition and only want to see cereals with a certain amount of sugar. This is where filtering comes in. You can filter data based on a condition, like the `Grams of Sugars` per serving being less than 10.\n",
    "\n",
    "Let's filter the data to show only cereals with less than 10 grams of sugar in the cell below. First, we need to load the data. The cell below loads the data into a variable called `cerealInfo`. We can use a comparison operator to filter the data, for instance we can use `cerealInfo['Grams of Sugars'] < 10` to get only the cereals with less than 10 grams of sugar. Run the cell to see how this filter works."
   ]
  },
  {
   "cell_type": "code",
   "execution_count": null,
   "metadata": {},
   "outputs": [],
   "source": [
    "cerealInfo = pandas.read_csv('Cereal Nutrition.csv')\n",
    "cerealInfo['Grams of Sugars'] < 10"
   ]
  },
  {
   "cell_type": "markdown",
   "metadata": {},
   "source": [
    "Was that what you wanted to see? I imagine not. Using a condition like this shows which rows meet the condition and which do not (True, False).\n",
    "\n",
    "To filter the data effectively, we need to use the `loc` function. The `loc` function allows us to select rows and columns based on labels. If we pass the data we just obtained to the `loc` function we will retrieve the rows that returned `True`. For example, `cerealInfo.loc[(cerealInfo['Grams of Sugars'] < 10)]` will return only the rows where the `Grams of Sugars` column is less than 10. Notice that `loc` uses square brackets and the condition inside is in parentheses. Run the cell below to see the filtered data."
   ]
  },
  {
   "cell_type": "code",
   "execution_count": null,
   "metadata": {},
   "outputs": [],
   "source": [
    "cerealInfo.loc[(cerealInfo['Grams of Sugars'] <= 10)]"
   ]
  },
  {
   "cell_type": "markdown",
   "metadata": {},
   "source": [
    "This is a much better way to filter the data. Now you can see only the cereals with less than 10 grams of sugar. But it gives us all of the data for those cereals. What if we only want to see the Cereal `Name` and `Grams of Sugars` columns? We can pass a list of column names to the `loc` function to only get those columns. For example, `cerealInfo.loc[(cerealInfo['Grams of Sugars'] < 10), ['Name', 'Grams of Sugars']]` will return only the `Name` and `Grams of Sugars` columns for cereals with less than 10 grams of sugar. Run the cell below to see the filtered data."
   ]
  },
  {
   "cell_type": "code",
   "execution_count": null,
   "metadata": {},
   "outputs": [],
   "source": [
    "cerealInfo.loc[(cerealInfo['Grams of Sugars'] < 10), ['Name', 'Grams of Sugars']]"
   ]
  },
  {
   "cell_type": "markdown",
   "metadata": {},
   "source": [
    "If you want to combine conditions, you can use the `&` operator for `and` and the `|` operator for `or`. For example, `cerealInfo.loc[(cerealInfo['Grams of Sugars'] < 10) & (cerealInfo['Calories'] < 100)]` will return only the cereals with less than 10 grams of sugar and less than 100 calories. Compound conditions MUST be in parentheses as shown. Run the cell below to see the filtered data."
   ]
  },
  {
   "cell_type": "code",
   "execution_count": null,
   "metadata": {},
   "outputs": [],
   "source": [
    "cerealInfo.loc[(cerealInfo['Grams of Sugars'] < 10) & \n",
    "               (cerealInfo['Calories'] < 100),\n",
    "               ['Name', 'Grams of Sugars', 'Calories']]"
   ]
  },
  {
   "cell_type": "markdown",
   "metadata": {},
   "source": [
    "## Your turn\n",
    "\n",
    "In the cell below, filter the class data to show only students who slept more than 8 hours last night. Display only the `How many hours did you sleep last night?` and `Grade` columns. Run the cell to see the filtered data."
   ]
  },
  {
   "cell_type": "code",
   "execution_count": null,
   "metadata": {},
   "outputs": [],
   "source": [
    "classInfo"
   ]
  },
  {
   "cell_type": "markdown",
   "metadata": {},
   "source": [
    "Create a bar chart of the `How many hours did you sleep last night?` column, showing only responses that slept less than 8 hours. Remember to use the `value_counts` function to count the number of students in each grade. (Hint: you'll want to limit the columns `loc` gives you.) If you get an error, you may need to clean the data more then reload it (run the cell above `Filtering Data` to reload)."
   ]
  },
  {
   "cell_type": "code",
   "execution_count": null,
   "metadata": {},
   "outputs": [],
   "source": []
  },
  {
   "cell_type": "markdown",
   "metadata": {},
   "source": [
    "Copy the chart to your activity guide."
   ]
  },
  {
   "cell_type": "markdown",
   "metadata": {},
   "source": [
    "# Automatic cleaning\n",
    "\n",
    "You've seen how to clean data manually, but what if you have a lot of data? It can be very time-consuming to clean it all by hand. Fortunately, pandas can assist you in cleaning data automatically. The `loc` function can be used to change the values it has filtered. For example, if you wanted to change the `Grade`s to be `Freshman` instead of `9`, you can search the data for `9` and replace it with `Freshman`. The code to do this is `classInfo.loc[(classInfo['Grade'] == 9), 'Grade'] = 'Freshman'`. It is important to limit the columns loc gives you to only the `Grade` column; otherwise, you might change the wrong column or all of the columns to `Freshman`.\n",
    "\n",
    "Run the cell below to see the data with the `Grade` column changed."
   ]
  },
  {
   "cell_type": "code",
   "execution_count": null,
   "metadata": {},
   "outputs": [],
   "source": [
    "classInfo.loc[classInfo['Grade'] == '9', ['Grade']] = 'Freshman'\n",
    "classInfo.head(10)"
   ]
  },
  {
   "cell_type": "markdown",
   "metadata": {},
   "source": [
    "Did it work? It should have changed all of the `9`s in the `Grade` column to `Freshman`. However, it only changed the data that exactly matched the filter. If someone writes '9th' then it won't be changed. To modify all data containing a `9`, you can use the `str.contains` function. For example, `classInfo.loc[(classInfo['Grade'].str.contains('9')), 'Grade'] = 'Freshman'` will change all of the data containing a `9` to `Freshman`. Run the cell below to see the data with the `Grade` column changed."
   ]
  },
  {
   "cell_type": "code",
   "execution_count": null,
   "metadata": {},
   "outputs": [],
   "source": [
    "classInfo.loc[classInfo['Grade'].str.contains('9'), ['Grade']] = 'Freshman'\n",
    "classInfo.head(10)"
   ]
  },
  {
   "cell_type": "markdown",
   "metadata": {},
   "source": [
    "Changing the data like this only changes the data that was loaded into the variable. The data stored on disk remains unchanged."
   ]
  },
  {
   "cell_type": "markdown",
   "metadata": {},
   "source": [
    "## Your turn\n",
    "\n",
    "Use the cell below to convert all of the `Grade`s in the class data to be `Freshman`, `Sophomore`, `Junior`, or `Senior`. Then, create a bar chart of the `Grade` column to see how many responses came from each grade. Remember to use the `value_counts` function to count the number of students in each grade and label your axes."
   ]
  },
  {
   "cell_type": "code",
   "execution_count": null,
   "metadata": {},
   "outputs": [],
   "source": []
  },
  {
   "cell_type": "markdown",
   "metadata": {},
   "source": [
    "# Finding information in the data\n",
    "\n",
    "Now that you have cleaned and filtered the data, you can start to find information in it. For example, you can find out how much Seniors tend to sleep. You will need to filter the data to only show Seniors, then create a bar chart of the `How many hours did you sleep last night?` column. Use the cell below for this, then copy the chart to your activity guide."
   ]
  },
  {
   "cell_type": "code",
   "execution_count": null,
   "metadata": {},
   "outputs": [],
   "source": []
  },
  {
   "cell_type": "markdown",
   "metadata": {},
   "source": [
    "Use the next cell to create a bar graph of Juniors showing the responses from the `How do you feel today?` column. **Then** filter the data to show only Juniors who slept more than 7 hours last night. Copy your code and both charts to your activity guide. Do you see a difference between the two?"
   ]
  },
  {
   "cell_type": "code",
   "execution_count": null,
   "metadata": {},
   "outputs": [],
   "source": []
  },
  {
   "cell_type": "markdown",
   "metadata": {},
   "source": [
    "Use the cell below to answer the remaining questions in your activity guide. Copy your code and charts to the guide as you answer each question. Don't forget to label the axes of your charts and give them a title."
   ]
  },
  {
   "cell_type": "code",
   "execution_count": null,
   "metadata": {},
   "outputs": [],
   "source": []
  }
 ],
 "metadata": {
  "kernelspec": {
   "display_name": "Python 3",
   "language": "python",
   "name": "python3"
  },
  "language_info": {
   "codemirror_mode": {
    "name": "ipython",
    "version": 3
   },
   "file_extension": ".py",
   "mimetype": "text/x-python",
   "name": "python",
   "nbconvert_exporter": "python",
   "pygments_lexer": "ipython3",
   "version": "3.11.4"
  }
 },
 "nbformat": 4,
 "nbformat_minor": 2
}
