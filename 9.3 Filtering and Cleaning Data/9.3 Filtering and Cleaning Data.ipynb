{
 "cells": [
  {
   "cell_type": "markdown",
   "metadata": {},
   "source": [
    "# Filtering and Cleaning Data\n",
    "\n",
    "Welcome back to the second jupyter notebook of the series. In this notebook, we will be filtering and cleaning data to make it easier to work with. We will still be using the pandas library to help us do this, but first we need to look at the data itself.\n",
    "\n",
    "Last time, we opened a CSV file and saw that it was a dense table of data. This time, we want to be able to see it a little more clearly. We will use an extension for Visual Studio Code called, funnily enough, CSV. This extension will allow us to see the data in a more readable format.\n",
    "\n",
    "Open the Extension tab ![Extension Icon](ExtensionIcon.png) on the left side of the screen and search for CSV. Find the CSV extension ![CSV Extension Icon](CSVIcon.png). Click Install. \n",
    "\n",
    "Once the extension is installed, open the `Cereal Nutrition.csv` file. You should see a table of data that is easier to read than the CSV file. CSV files are not meant to be read by humans, so this extension is very helpful. Another way to view the data is to open the file in Excel or Google Sheets. We will explore this option soon with the data your class created with the `Daily Data Tracker` form."
   ]
  },
  {
   "cell_type": "code",
   "execution_count": null,
   "metadata": {},
   "outputs": [],
   "source": [
    "import pandas\n",
    "from IPython.display import Image\n",
    "\n",
    "cerealInfo = pandas.read_csv('Cereal Nutrition.csv')\n",
    "Image(cerealInfo['Box Image'][0])"
   ]
  },
  {
   "cell_type": "markdown",
   "metadata": {},
   "source": []
  }
 ],
 "metadata": {
  "kernelspec": {
   "display_name": "Python 3",
   "language": "python",
   "name": "python3"
  },
  "language_info": {
   "codemirror_mode": {
    "name": "ipython",
    "version": 3
   },
   "file_extension": ".py",
   "mimetype": "text/x-python",
   "name": "python",
   "nbconvert_exporter": "python",
   "pygments_lexer": "ipython3",
   "version": "3.11.4"
  }
 },
 "nbformat": 4,
 "nbformat_minor": 2
}
