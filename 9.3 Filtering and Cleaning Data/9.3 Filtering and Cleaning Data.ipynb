{
 "cells": [
  {
   "cell_type": "markdown",
   "metadata": {},
   "source": [
    "### Preparing\n",
    "\n",
    "Run the cell below to load the imported libraries used by the code below."
   ]
  },
  {
   "cell_type": "code",
   "execution_count": null,
   "metadata": {},
   "outputs": [],
   "source": [
    "import pandas\n",
    "from IPython.display import Image"
   ]
  },
  {
   "cell_type": "markdown",
   "metadata": {},
   "source": [
    "# Filtering and Cleaning Data\n",
    "\n",
    "Welcome back to the second jupyter notebook of the series. In this notebook, we will be filtering and cleaning data to make it easier to work with. We will still be using the pandas library to help us do this, but first we need to look at the data itself.\n",
    "\n",
    "Last time, we opened a CSV file and saw that it was a dense table of data. This time, we want to be able to see it a little more clearly. We will use an extension for Visual Studio Code called, funnily enough, CSV. This extension will allow us to see the data in a more readable format.\n",
    "1. Open the Extension tab ![Extension Icon](ExtensionIcon.png) on the right side of the screen.\n",
    "2. Search for CSV.\n",
    "3. Find the CSV extension with this icon: ![CSV Extension Icon](CSVIcon.png). \n",
    "4. Click Install. \n",
    "\n",
    "Once the extension is installed, open the `Cereal Nutrition.csv` file. You should see a table of data that is easier to read than the CSV file. CSV files are not meant to be read by humans, so this extension is very helpful.\n",
    "\n",
    "## Downloading data\n",
    "\n",
    "Another way to view the data is to open the file in Excel or Google Sheets. We will explore this option with the data your class created with the `Daily Data Tracker` form. Follow the steps below:\n",
    "1. [Click here to open the data on Google Sheets.](https://learn.mycode.run/link/xxcpx) Take a look through the data.\n",
    "2. From the `File` menu, choose `Download` then `Comma Separated Values (.csv)` to download all of the data.\n",
    "3. Open the Explorer tab ![Explorer Icon](ExplorerIcon.png) on the right side of the screen and drag the CSV file into the same folder as this jupyer notebook (`9.3 Filtering and Cleaning Data`).\n",
    "4. Double click the file and verify the data looks similar to the data you saw on Google Sheets.\n",
    "\n",
    "This is the data file we will start with. Let's review making a chart by looking at some of its columns. In the data cell below, update the name of the .csv file being loaded to match the file you just downloaded, then run the cell and verify the output looks like the first few lines from Google Sheets."
   ]
  },
  {
   "cell_type": "code",
   "execution_count": null,
   "metadata": {},
   "outputs": [],
   "source": [
    "classInfo = pandas.read_csv('CSP Data Tracker.csv') # Fix this line so the file name is correct!!\n",
    "classInfo.head()"
   ]
  },
  {
   "cell_type": "markdown",
   "metadata": {},
   "source": [
    "If everything looks correct, you can start visualizing the data. Create a bar chart of either the `How many hours did you sleep last night?` or `Favorite Subject` column. Remember that you are looking at how many times a particular value appears in the column, so make sure to use the `value_counts` function. The `kind` of `plot` should be a `bar` chart."
   ]
  },
  {
   "cell_type": "code",
   "execution_count": null,
   "metadata": {},
   "outputs": [],
   "source": [
    "classInfo['']"
   ]
  },
  {
   "cell_type": "markdown",
   "metadata": {},
   "source": [
    "## Copying and cleaning\n",
    "\n",
    "Copy the chart you created to your activity guide. Does it look right? Are there any issues?\n",
    "\n",
    "You probably see that some of the data is a little 'wonky' (that's a technical term). To get a good visualization of the data it needs to be cleaned up. Before you go off making changes, there's a very important step to take. As a data scientist, you don't want to lose any data that you have, you don't want to accidentally delete or corrupt it. Instead of modifying the data you have, you only ever want to modify a **COPY** of that data. That way you can always go back and show the changes you made and verify that you didn't change the meaning of the data. Let's make that copy.\n",
    "\n",
    "1. In the Explorer tab find the original `CSP Data Tracker.csv` file.\n",
    "2. Right click the file and select `Copy`.\n",
    "3. Press `Ctrl`+`V` to paste the file, making a copy.\n",
    "4. Right click the copy and select `Rename`.\n",
    "5. Name the copy `CSP Data Cleaned.csv` (make sure to name it exactly).\n",
    "6. Open the csv file and follow your instructor's directions to clean it up.\n",
    "7. Update the cell below to create a bar chart of the same column you made above.\n",
    "8. Run the cell below to load the cleaned data and visualize it."
   ]
  },
  {
   "cell_type": "code",
   "execution_count": null,
   "metadata": {},
   "outputs": [],
   "source": [
    "classInfo = pandas.read_csv('CSP Data Cleaned.csv')\n",
    "classInfo['']"
   ]
  },
  {
   "cell_type": "markdown",
   "metadata": {},
   "source": [
    "Copy the chart of the cleaned data to your activity guide. Did cleaning the data improve it? How?"
   ]
  },
  {
   "cell_type": "markdown",
   "metadata": {},
   "source": [
    "# Filtering data"
   ]
  }
 ],
 "metadata": {
  "kernelspec": {
   "display_name": "Python 3",
   "language": "python",
   "name": "python3"
  },
  "language_info": {
   "codemirror_mode": {
    "name": "ipython",
    "version": 3
   },
   "file_extension": ".py",
   "mimetype": "text/x-python",
   "name": "python",
   "nbconvert_exporter": "python",
   "pygments_lexer": "ipython3",
   "version": "3.12.1"
  }
 },
 "nbformat": 4,
 "nbformat_minor": 2
}
