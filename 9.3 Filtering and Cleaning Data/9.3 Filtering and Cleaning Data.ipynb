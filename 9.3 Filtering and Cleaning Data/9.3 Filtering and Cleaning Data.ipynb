{
 "cells": [
  {
   "cell_type": "markdown",
   "metadata": {},
   "source": [
    "### Preparing\n",
    "\n",
    "Run the cell below to load the imported libraries used by the code below."
   ]
  },
  {
   "cell_type": "code",
   "execution_count": 3,
   "metadata": {},
   "outputs": [],
   "source": [
    "import pandas\n",
    "from IPython.display import Image"
   ]
  },
  {
   "cell_type": "markdown",
   "metadata": {},
   "source": [
    "# Filtering and Cleaning Data\n",
    "\n",
    "Welcome back to the second jupyter notebook of the series. In this notebook, we will be filtering and cleaning data to make it easier to work with. We will still be using the pandas library to help us do this, but first we need to look at the data itself.\n",
    "\n",
    "Last time, we opened a CSV file and saw that it was a dense table of data. This time, we want to be able to see it a little more clearly. We will use an extension for Visual Studio Code called, funnily enough, CSV. This extension will allow us to see the data in a more readable format.\n",
    "1. Open the Extension tab ![Extension Icon](ExtensionIcon.png) on the right side of the screen.\n",
    "2. Search for CSV.\n",
    "3. Find the CSV extension with this icon: ![CSV Extension Icon](CSVIcon.png). \n",
    "4. Click Install. \n",
    "\n",
    "Once the extension is installed, open the `Cereal Nutrition.csv` file. You should see a table of data that is easier to read than the CSV file. CSV files are not meant to be read by humans, so this extension is very helpful.\n",
    "\n",
    "## Downloading data\n",
    "\n",
    "Another way to view the data is to open the file in Excel or Google Sheets. We will explore this option with the data your class created with the `Daily Data Tracker` form. Follow the steps below:\n",
    "1. [Click here to open the data on Google Sheets.](https://learn.mycode.run/link/xxcpx) Take a look through the data.\n",
    "2. From the `File` menu, choose `Download` then `Comma Separated Values (.csv)` to download all of the data.\n",
    "3. Open the Explorer tab ![Explorer Icon](ExplorerIcon.png) on the right side of the screen and drag the CSV file into the same folder as this jupyer notebook (`9.3 Filtering and Cleaning Data`).\n",
    "4. Double click the file and verify the data looks similar to the data you saw on Google Sheets.\n",
    "\n",
    "This is the data file we will start with. Let's review making a chart by looking at some of its columns. In the data cell below, update the name of the .csv file being loaded to match the file you just downloaded, then run the cell and verify the output looks like the first few lines from Google Sheets."
   ]
  },
  {
   "cell_type": "code",
   "execution_count": null,
   "metadata": {},
   "outputs": [],
   "source": [
    "classInfo = pandas.read_csv('CSP Data Tracker.csv') # Fix this line so the file name is correct!!\n",
    "classInfo.head()"
   ]
  },
  {
   "cell_type": "markdown",
   "metadata": {},
   "source": [
    "If everything looks correct, you can start visualizing the data. Create a bar chart of either the `How many hours did you sleep last night?` or `Favorite Subject` column. Remember that you are looking at how many times a particular value appears in the column, so make sure to use the `value_counts` function. The `kind` of `plot` should be a `bar` chart."
   ]
  },
  {
   "cell_type": "code",
   "execution_count": null,
   "metadata": {},
   "outputs": [],
   "source": [
    "classInfo['']"
   ]
  },
  {
   "cell_type": "markdown",
   "metadata": {},
   "source": [
    "## Copying and cleaning\n",
    "\n",
    "Copy the chart you created to your activity guide. Does it look right? Are there any issues?\n",
    "\n",
    "You probably see that some of the data is a little 'wonky' (that's a technical term). To get a good visualization of the data it needs to be cleaned up. Before you go off making changes, there's a very important step to take. As a data scientist, you don't want to lose any data that you have, you don't want to accidentally delete or corrupt it. Instead of modifying the data you have, you only ever want to modify a **COPY** of that data. That way you can always go back and show the changes you made and verify that you didn't change the meaning of the data. Let's make that copy.\n",
    "\n",
    "1. In the Explorer tab find the original `CSP Data Tracker.csv` file.\n",
    "2. Right click the file and select `Copy`.\n",
    "3. Press `Ctrl`+`V` to paste the file, making a copy.\n",
    "4. Right click the copy and select `Rename`.\n",
    "5. Name the copy `CSP Data Cleaned.csv` (make sure to name it exactly).\n",
    "6. Open the csv file and follow your instructor's directions to clean it up - you'll need to clean up at least the `How many hours did you sleep last night` and `Favorite Subject`, but don't clean the `Grade` column.\n",
    "7. Update the cell below to create a bar chart of the same column you made above.\n",
    "8. Run the cell below to load the cleaned data and create the chart."
   ]
  },
  {
   "cell_type": "code",
   "execution_count": 104,
   "metadata": {},
   "outputs": [],
   "source": [
    "classInfo = pandas.read_csv('CSP Data Tracker.csv')"
   ]
  },
  {
   "cell_type": "markdown",
   "metadata": {},
   "source": [
    "Copy the chart of either the `How many hours did you sleep last night?` or `Favorite Subject` column using your cleaned data to your activity guide. Did cleaning the data improve it? How?"
   ]
  },
  {
   "cell_type": "markdown",
   "metadata": {},
   "source": [
    "# Filtering data\n",
    "\n",
    "Sometimes you only want to see a subset of the data. For example, you might be investigating cereal nutrition and only want to see cereals with a certain amount of sugar. This is where filtering comes in. You can filter data based on a condition, such as `Grams of Sugars` per serving being less than 10.\n",
    "\n",
    "Let's filter the data to only show cereals with less than 10 grams of sugar in the cell below. First, we need to load the data. The cell below loads the data into a variable called `cerealInfo`. We can use a comparison operator to filter the data, for instance we can use `cerealInfo['Grams of Sugars'] < 10` to get only the cereals with less than 10 grams of sugar. Run the cell to see how this filter works."
   ]
  },
  {
   "cell_type": "code",
   "execution_count": null,
   "metadata": {},
   "outputs": [],
   "source": [
    "cerealInfo = pandas.read_csv('Cereal Nutrition.csv')\n",
    "cerealInfo['Grams of Sugars'] < 10"
   ]
  },
  {
   "cell_type": "markdown",
   "metadata": {},
   "source": [
    "Was that what you wanted to see? I imagine not. Using a condition like this shows which rows meet the condition and which do not (True, False).\n",
    "\n",
    "To filter the data so we can use it, we need to use the `loc` function. The `loc` function allows us to select rows and columns based on labels. If we pass the data we just got to the `loc` function we will get the rows that returned `True`. For example, `cerealInfo.loc[(cerealInfo['Grams of Sugars'] < 10)]` will return only the rows where the `Grams of Sugars` column is less than 10. Notice that `loc` uses square brackets and the condition inside is in parentheses. Run the cell below to see the filtered data."
   ]
  },
  {
   "cell_type": "code",
   "execution_count": null,
   "metadata": {},
   "outputs": [],
   "source": [
    "cerealInfo.loc[(cerealInfo['Grams of Sugars'] <= 10)]"
   ]
  },
  {
   "cell_type": "markdown",
   "metadata": {},
   "source": [
    "This is a much better way to filter the data. Now you can see only the cereals with less than 10 grams of sugar. But it gives us all of the data for those cereals. What if we only want to see the Cereal `Name` and `Grams of Sugars` columns? We can pass a list of column names to the `loc` function to only get those columns. For example, `cerealInfo.loc[(cerealInfo['Grams of Sugars'] < 10), ['Name', 'Grams of Sugars']]` will return only the `Name` and `Grams of Sugars` columns for cereals with less than 10 grams of sugar. Run the cell below to see the filtered data."
   ]
  },
  {
   "cell_type": "code",
   "execution_count": null,
   "metadata": {},
   "outputs": [],
   "source": [
    "cerealInfo.loc[(cerealInfo['Grams of Sugars'] < 10), ['Name', 'Grams of Sugars']]"
   ]
  },
  {
   "cell_type": "markdown",
   "metadata": {},
   "source": [
    "If you want to combine conditions, you can use the `&` operator for `and` and the `|` operator for `or`. For example, `cerealInfo.loc[(cerealInfo['Grams of Sugars'] < 10) & (cerealInfo['Calories'] < 100)]` will return only the cereals with less than 10 grams of sugar and less than 100 calories. Compound conditions MUST be in parentheses as shown. Run the cell below to see the filtered data."
   ]
  },
  {
   "cell_type": "code",
   "execution_count": null,
   "metadata": {},
   "outputs": [],
   "source": [
    "cerealInfo.loc[(cerealInfo['Grams of Sugars'] < 10) & \n",
    "               (cerealInfo['Calories'] < 100),\n",
    "               ['Name', 'Grams of Sugars', 'Calories']]"
   ]
  },
  {
   "cell_type": "markdown",
   "metadata": {},
   "source": [
    "## Your turn\n",
    "\n",
    "In the cell below, filter the class data to only show students who slept more than 8 hours last night. Then, filter the data to only show the `How many hours did you sleep last night?` and `Grade` columns. Run the cell to see the filtered data."
   ]
  },
  {
   "cell_type": "code",
   "execution_count": null,
   "metadata": {},
   "outputs": [],
   "source": [
    "classInfo"
   ]
  },
  {
   "cell_type": "markdown",
   "metadata": {},
   "source": [
    "Create a bar chart of the `How many hours did you sleep last night?` column, showing only responses that slept less than 8 hours. Remember to use the `value_counts` function to count the number of students in each grade. (Hint: you'll want to limit the columns `loc` gives you.) If you get an error, you may need to clean the data more then reload it."
   ]
  },
  {
   "cell_type": "code",
   "execution_count": null,
   "metadata": {},
   "outputs": [],
   "source": []
  },
  {
   "cell_type": "markdown",
   "metadata": {},
   "source": [
    "# Automatic cleaning\n",
    "\n",
    "You've seen how to clean data manually, but what if you have a lot of data? It would be very time consuming to clean it all by hand. Luckily, pandas can help you clean data automatically. The `loc` function can be used to change the values it has filtered. For example, if you wanted to change the `Grade`s to be `Freshman` instead of `9`, you can search the data for `9` and replace it with `Freshman`. The code to do this is `classInfo.loc[(classInfo['Grade'] == 9), 'Grade'] = 'Freshman'`. Run the cell below to see the data with the `Grade` column changed."
   ]
  },
  {
   "cell_type": "code",
   "execution_count": null,
   "metadata": {},
   "outputs": [],
   "source": [
    "classInfo.loc[classInfo['Grade'] == '9', ['Grade']] = 'Freshman'\n",
    "classInfo.head(10)"
   ]
  },
  {
   "cell_type": "markdown",
   "metadata": {},
   "source": [
    "Did it work? It should have changed all of the `9`s in the `Grade` column to `Freshman`. However, it only changed the data that exactly matched the filter. If someone writes '9th' then it won't be changed. To change all of the data that contains a `9`, you can use the `str.contains` function. For example, `classInfo.loc[(classInfo['Grade'].str.contains('9')), 'Grade'] = 'Freshman'` will change all of the data that contains a `9` to `Freshman`. Run the cell below to see the data with the `Grade` column changed."
   ]
  },
  {
   "cell_type": "code",
   "execution_count": null,
   "metadata": {},
   "outputs": [],
   "source": [
    "classInfo.loc[classInfo['Grade'].str.contains('9'), ['Grade']] = 'Freshman'\n",
    "classInfo.head(10)"
   ]
  },
  {
   "cell_type": "markdown",
   "metadata": {},
   "source": [
    "Changing the data like this only changes the data that was loaded into the variable. The data stored on disk is not changed."
   ]
  },
  {
   "cell_type": "markdown",
   "metadata": {},
   "source": [
    "## Your turn\n",
    "\n",
    "Use the cell below to convert all of the grades in the class data to be `Freshman`, `Sophomore`, `Junior`, or `Senior`. Then, create a bar chart of the `Grade` column to see how many responses came from each grade. Remember to use the `value_counts` function to count the number of students in each grade."
   ]
  },
  {
   "cell_type": "code",
   "execution_count": null,
   "metadata": {},
   "outputs": [],
   "source": []
  },
  {
   "cell_type": "markdown",
   "metadata": {},
   "source": [
    "# Finding information in the data\n",
    "\n",
    "Now that you have cleaned and filtered the data, you can start to find information in it. For example, you can find out how much Seniors tend to sleep. To do this, you can filter the data to only show Seniors, then create a bar chart of the `How many hours did you sleep last night?` column. Use the cell below to do this, then copy the chart to your activity guide."
   ]
  },
  {
   "cell_type": "code",
   "execution_count": null,
   "metadata": {},
   "outputs": [],
   "source": []
  },
  {
   "cell_type": "markdown",
   "metadata": {},
   "source": [
    "In the cereal data, you can find out which cereals have the most sugar. To do this, filter the data to only show cereals with more than 10 grams of sugar, then create a bar chart of the `Grams of Sugars` column. Use the cell below to do this, then copy the chart to your activity guide."
   ]
  },
  {
   "cell_type": "code",
   "execution_count": null,
   "metadata": {},
   "outputs": [],
   "source": []
  },
  {
   "cell_type": "markdown",
   "metadata": {},
   "source": [
    "Use the cell below to answer the questions in your activity guide. Copy your code and charts to the guide as you answer each question."
   ]
  },
  {
   "cell_type": "code",
   "execution_count": null,
   "metadata": {},
   "outputs": [],
   "source": []
  }
 ],
 "metadata": {
  "kernelspec": {
   "display_name": "Python 3",
   "language": "python",
   "name": "python3"
  },
  "language_info": {
   "codemirror_mode": {
    "name": "ipython",
    "version": 3
   },
   "file_extension": ".py",
   "mimetype": "text/x-python",
   "name": "python",
   "nbconvert_exporter": "python",
   "pygments_lexer": "ipython3",
   "version": "3.11.4"
  }
 },
 "nbformat": 4,
 "nbformat_minor": 2
}
