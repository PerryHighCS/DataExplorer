{
 "cells": [
  {
   "cell_type": "markdown",
   "metadata": {},
   "source": [
    "# 9.8 - Tell a Data Story\n",
    "\n",
    "## Background\n",
    "Computing tools allow people from all different fields to learn from data. By changing and displaying data visually, we can discover patterns that help us understand our world better.\n",
    "\n",
    "For this project, you will:\n",
    "* Select a dataset\n",
    "* Use this Jupyter Notebook and Python to make a visualization that teaches us something interesting about the data\n",
    "* Write a response that explains:\n",
    "  * what your visualizations reveal\n",
    "  * new insights or decisions that can arise from this visualization\n",
    "  * potential issues with your analysis, including biases in the data or your interpretation\n",
    "\n",
    "You've been coding to analyze data and create visualizations. Now it’s time to combine everything and tell your own story. You can use any dataset we've worked with in class or find a new dataset to analyze.\n",
    "\n",
    "You will need to use the pandas library to load and manipulate your data. Run the cell below to import the library."
   ]
  },
  {
   "cell_type": "code",
   "execution_count": null,
   "metadata": {},
   "outputs": [],
   "source": [
    "import pandas # for loading and visualizing data\n",
    "import numpy # for trendlines if needed"
   ]
  },
  {
   "cell_type": "markdown",
   "metadata": {},
   "source": [
    "## Data Analysis Process:\n",
    "### 1. Collect or Choose Data\n",
    "   * Select a dataset from the [code.org Data Library](https://learn.mycode.run/link/xzcnh) or from [data.gov](https://catalog.data.gov/). Review the metadata to understand the available information in the table.\n",
    "   * Once you have chosen a dataset, download it as a `.csv` file and save it to your computer in the same folder as this notebook.\n",
    "   * Fill in the cell below to describe the dataset you have selected."
   ]
  },
  {
   "cell_type": "markdown",
   "metadata": {},
   "source": [
    "Dataset name:\n",
    "\n",
    "Short description of the dataset:\n"
   ]
  },
  {
   "cell_type": "markdown",
   "metadata": {},
   "source": [
    "### 2. Process Data\n",
    "   * Double click the .csv file in the Visual Studio Code `Explorer` tab.\n",
    "   * Review the data to understand what information is available in the table and decide if it needs filtering or cleaning.\n",
    "   * Clean the data as necessary. Be sure to describe any steps you took to clean the data in the cell below.\n",
    "   * Load the data into this notebook using the `pandas` library, then apply any necessary filters."
   ]
  },
  {
   "cell_type": "markdown",
   "metadata": {},
   "source": [
    "### 3. Visualize and Find Patterns\n",
    "   * Use the `pandas` library to create at least one visualization that helps us learn something interesting about the data.\n",
    "   * Include labels, a title, and any other information that helps us understand your visualization.\n",
    "   * You can use any of the visualization tools we've learned about in class, including bar graphs, histograms, scatter plots, and crosstab charts.\n"
   ]
  },
  {
   "cell_type": "markdown",
   "metadata": {},
   "source": [
    "### 4. New Information\n",
    "  * After your visualization, add a Markdown cell for a response that explains:\n",
    "     * what information your visualization(s) display\n",
    "     * new insights or decisions that can come from this visualization\n",
    "     * potential issues with your analysis, including biases in the data or your interpretation\n",
    "Make sure to incorporate all the above points in your response."
   ]
  },
  {
   "cell_type": "markdown",
   "metadata": {},
   "source": [
    "## Tell your story\n",
    "\n",
    "The rest of this notebook is yours to use. Use the process that is described above to explore your dataset. As you work, explain your process and findings in a way that tells a story. Explain why you are cleaning or filtering the data in the way you are. What are you changing and why? Explain why you are creating the particular visualization(s) you have chosen. What do you hope to learn from them? What do you want others to learn from them?\n",
    "\n",
    "Add cells and visualizations as needed. So far, we’ve provided you with cells to write your code in and other cells explaining how the code should work. For this project, you will need to create your own cells. You can add a cell by clicking the `+` buttons in the toolbar above, or hover over the bottom of a cell to see `+` buttons. `Code` cells allow you to write Python code and `Markdown` cells are for writing text to describe what you see. Feel free to use multiple cells for your text and code to keep everything organized."
   ]
  },
  {
   "cell_type": "markdown",
   "metadata": {},
   "source": [
    "# My Data Story <- Change this title"
   ]
  },
  {
   "cell_type": "code",
   "execution_count": null,
   "metadata": {},
   "outputs": [],
   "source": []
  },
  {
   "cell_type": "code",
   "execution_count": null,
   "metadata": {},
   "outputs": [],
   "source": [
    "# load the data from the csv file\n"
   ]
  },
  {
   "cell_type": "markdown",
   "metadata": {},
   "source": []
  },
  {
   "cell_type": "code",
   "execution_count": null,
   "metadata": {},
   "outputs": [],
   "source": [
    "# automated cleaning of the data\n"
   ]
  },
  {
   "cell_type": "markdown",
   "metadata": {},
   "source": []
  },
  {
   "cell_type": "code",
   "execution_count": null,
   "metadata": {},
   "outputs": [],
   "source": [
    "# filtering the data\n"
   ]
  },
  {
   "cell_type": "markdown",
   "metadata": {},
   "source": []
  }
 ],
 "metadata": {
  "kernelspec": {
   "display_name": "Python 3",
   "language": "python",
   "name": "python3"
  },
  "language_info": {
   "codemirror_mode": {
    "name": "ipython",
    "version": 3
   },
   "file_extension": ".py",
   "mimetype": "text/x-python",
   "name": "python",
   "nbconvert_exporter": "python",
   "pygments_lexer": "ipython3",
   "version": "3.11.4"
  }
 },
 "nbformat": 4,
 "nbformat_minor": 2
}
