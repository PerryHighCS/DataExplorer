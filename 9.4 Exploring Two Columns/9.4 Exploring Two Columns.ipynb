{
 "cells": [
  {
   "cell_type": "markdown",
   "metadata": {},
   "source": [
    "# 9.4 - Exploring Two Columns\n",
    "\n",
    "Bar charts and histograms are useful for looking at one column at a time. But what if you want to compare two columns? To explore relationships between different types of information, we need to visualize data that includes two columns at once. In this lesson, we will learn how to use scatter plots and crosstab charts to analyze two columns of data together.\n",
    "\n",
    "## Preparation\n",
    "\n",
    "Run the code cell below to load the necessary libraries.\n"
   ]
  },
  {
   "cell_type": "code",
   "execution_count": 9,
   "metadata": {},
   "outputs": [],
   "source": [
    "import pandas\n",
    "import numpy"
   ]
  },
  {
   "cell_type": "markdown",
   "metadata": {},
   "source": [
    "## Scatter Plots\n",
    "\n",
    "A scatter plot is a two-dimensional way to show data, using individual points to represent the values of two different columns. It helps us see the relationship between these columns by placing a dot on the graph for each observation. The position of each dot is based on the values of the two columns, with one columns on the x-axis and the other on the y-axis.\n",
    "\n",
    "Let's look at a scatter plot from the `US States` dataset. Run the code cell below."
   ]
  },
  {
   "cell_type": "code",
   "execution_count": null,
   "metadata": {},
   "outputs": [],
   "source": [
    "# Load the US States data from the CSV file\n",
    "stateInfo = pandas.read_csv(\"US States.csv\")\n",
    "\n",
    "# plot a scatter plot of the Admission Number vs Area of the first 48 states\n",
    "first48 = stateInfo[stateInfo[\"Admission Number\"] < 49]\n",
    "first48.plot(kind=\"scatter\", x=\"Admission Number\", y=\"Area\");"
   ]
  },
  {
   "cell_type": "markdown",
   "metadata": {},
   "source": [
    "The scatter plot shows a dot for each of the first 48 states. The dot's are ordered along the x axis by their `Admission Number`, the order they joined the union. The y axis shows the area of the state in square miles. Is there a \n",
    "pattern in the data? How can you tell?\n",
    "\n",
    "### Trend Lines\n",
    "\n",
    "One way to identify patterns is by drawing a trend line, which is the line that best fits the data. This line illustrates the general trend. If the trend line slopes upward from left to right, it indicates that as the x variable increases, the y variable tends to increase as well. Conversely, if it slopes downward, it suggests that as the x variable increases, the y variable tends to decrease.\n",
    "\n",
    "We will use another Python library, `numpy`, to help visualize the trend in the data. Run the code cell below to see the scatter plot with a trend line."
   ]
  },
  {
   "cell_type": "code",
   "execution_count": null,
   "metadata": {},
   "outputs": [],
   "source": [
    "# find the line function that best fits the data\n",
    "coefficients = numpy.polyfit(first48[\"Admission Number\"], first48[\"Area\"], 1)\n",
    "lineFunc = numpy.poly1d(coefficients)\n",
    "\n",
    "# plot the line function on top of the scatter plot\n",
    "first48.plot(kind=\"scatter\", x=\"Admission Number\", y=\"Area\").plot(\n",
    "    first48[\"Admission Number\"], lineFunc(first48[\"Admission Number\"]), \"red\");"
   ]
  },
  {
   "cell_type": "markdown",
   "metadata": {},
   "source": [
    "To determine the trend line, we used the `numpy` library to calculate the coefficients of the line of best fit for the data. The line of best fit minimizes the sum of the squared differences between the observed values and the predicted values.\n",
    "\n",
    "To draw the trend line, we used the coefficients in a one-dimensional polynomial function. We used the `poly1d` function from the numpy library to create the function. The `poly1d` function takes the coefficients as an argument and returns a new function that calculates the y value for a given x value. That function is then used to plot the trend line, using the `Admission Number` values as the x values.\n",
    "\n",
    "While trend lines are helpful for illustrating the general trend, they do not provide a complete picture. They can be misleading if the data does not follow a linear pattern. In this case, the data generally follows a linear pattern (with some exceptions), so the trend line is a good representation. However, in other situations, the trend line may not be as informative.\n",
    "\n",
    "Scatter plots are an excellent method for examining the relationship between two sets of data. They can reveal patterns and identify outliers. If the points appear randomly scattered, there is no relationship between the two variables. However, if the points form a recognizable pattern, it indicates a relationship. \n",
    "\n",
    "Keep in mind that scatter plots may not be effective when values in one column repeat frequently, as overlapping points can obscure patterns. In such cases, you might consider using a crosstab chart to analyze the relationship between the two sets.\n",
    "\n",
    "### Your Turn\n",
    "\n",
    "Now it's your turn to create a scatter plot. In the code cell below, generate a scatter plot that shows the relationship between the `Median Household Income` and the `Percent of Adult College Graduates` of the states. Can you identify any patterns? \n",
    "\n",
    "Next, create a trend line for this data. What does the trend line tell you about the relationship between the two variables?"
   ]
  },
  {
   "cell_type": "code",
   "execution_count": null,
   "metadata": {},
   "outputs": [],
   "source": [
    "# use the stateInfo data\n"
   ]
  },
  {
   "cell_type": "markdown",
   "metadata": {},
   "source": [
    "Review the US States dataset. What other columns might be interesting to compare? What patterns do you think you might see in the data? \n",
    "\n",
    "Pick two columns and create a scatter plot and trend line for them. What do you notice about the relationship between the two variables?"
   ]
  },
  {
   "cell_type": "code",
   "execution_count": null,
   "metadata": {},
   "outputs": [],
   "source": []
  },
  {
   "cell_type": "markdown",
   "metadata": {},
   "source": [
    "## Crosstab Charts\n",
    "\n",
    "Crosstab charts are another way to explore the relationship between two columns. A crosstab chart is a table that shows how frequently different values of one column appear alongside different values of another column. Each cell in the table displays the number of observations corresponding to each combination of values. The rows represent the values of one column, while the columns represent the values of the other column.\n",
    "\n",
    "Let's examine a crosstab chart from the `dogs` dataset. Run the code cell below."
   ]
  },
  {
   "cell_type": "code",
   "execution_count": null,
   "metadata": {},
   "outputs": [],
   "source": [
    "dogInfo = pandas.read_csv(\"dogs.csv\")\n",
    "\n",
    "# make the \"Maximum Life Span\" column an integer to make it easier to work with\n",
    "dogInfo[\"Maximum Life Span\"] = dogInfo[\"Maximum Life Span\"].round(0)\n",
    "dogInfo[\"Maximum Life Span\"] = dogInfo[\"Maximum Life Span\"].astype(int)\n",
    "\n",
    "# generate a crosstab of the maximum life span vs the breed group of the breeds\n",
    "crosstab = pandas.crosstab(dogInfo[\"Breed Group\"], dogInfo[\"Maximum Life Span\"])\n",
    "crosstab.style.background_gradient(cmap=\"bone\", axis=None)"
   ]
  },
  {
   "cell_type": "markdown",
   "metadata": {},
   "source": [
    "Notice that the crosstab chart indicates the number of breeds that belong to each combination of `Breed Group` and `Maximum Life Span`. For instance, there are 2 breeds in the `Herding` group that have a maximum life span of 15 years.\n",
    "\n",
    "* Can you find the most common maximum life span for \"Working\" breeds? What about for \"Toy\" breeds?\n",
    "\n",
    "* How many 'Herding' breeds have a maximum life span of 12 years? What about 15 years?\n",
    "\n",
    "* Which breed groups can you expect to live the longest?\n",
    "\n",
    "* How confident are you in your answers?\n",
    "\n",
    "Crosstab charts are useful for comparing the distribution of one column across different values of another column. They can help highlight patterns in the data that may not be immediately obvious. They are useful for:\n",
    "* Identifying the most or least common combinations of values in two columns\n",
    "* Discovering patterns across the two columns\n",
    "* Analyzing two columns when the data in one or both columns is categorical (strings)\n",
    "\n",
    "Crosstab charts may not be as effective when one or both columns contain continuous (numerical) data or when there are too many categories. The chart could become overwhelming, making it difficult to identify relationships. In such cases, scatter plots and trend lines are preferable.\n",
    "\n",
    "When constructing crosstab charts, consider using various color maps to help visualize patterns in the data. A color map is a gradient of colors representing values in the table, helping to highlight the most and least common occurrences. You can use the `cmap` argument in the `background_gradient` function to choose a color map. You can find a list of color maps [here](https://matplotlib.org/stable/tutorials/colors/colormaps.html#sequential). \n",
    "\n",
    "### Your Turn\n",
    "\n",
    "Now it's your turn. First, download the `Words` dataset as a .csv file from [code.org](https://learn.mycode.run/link/xzcnh). Follow your instructor's directions to export the dataset to a csv file and copy it to the same folder as this notebook.\n",
    "\n",
    "Use the `Words` dataset to create a crosstab chart that shows the number of words that share each combination of `Length` and `Part of Speech`. Copy the chart into your activity guide and use it to answer the questions.\n",
    "\n",
    "Finally, use your cleaned up class data tracker data to create a crosstab chart that displays the number of responses for each combination of `Grade` and `Favorite Subject`. (You'll need to repeat the automated cleaning from the last notebook.) Copy this chart into your activity guide and use it to answer the questions."
   ]
  },
  {
   "cell_type": "code",
   "execution_count": null,
   "metadata": {},
   "outputs": [],
   "source": [
    "# load the words dataset\n",
    "\n",
    "\n",
    "# create a crosstab of the length of the words vs the part of speech\n",
    "\n",
    "\n",
    "# load the class data tracker dataset\n",
    "\n",
    "\n",
    "# create a crosstab of the grade vs the favorite subject\n",
    "\n"
   ]
  }
 ],
 "metadata": {
  "kernelspec": {
   "display_name": "Python 3",
   "language": "python",
   "name": "python3"
  },
  "language_info": {
   "codemirror_mode": {
    "name": "ipython",
    "version": 3
   },
   "file_extension": ".py",
   "mimetype": "text/x-python",
   "name": "python",
   "nbconvert_exporter": "python",
   "pygments_lexer": "ipython3",
   "version": "3.11.4"
  }
 },
 "nbformat": 4,
 "nbformat_minor": 2
}
